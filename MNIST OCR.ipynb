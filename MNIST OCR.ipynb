{
 "cells": [
  {
   "cell_type": "code",
   "execution_count": 1,
   "metadata": {},
   "outputs": [],
   "source": [
    "from keras.datasets import mnist\n",
    "from keras.models import Sequential\n",
    "from keras.layers import Dense\n",
    "from keras.utils import np_utils"
   ]
  },
  {
   "cell_type": "code",
   "execution_count": 2,
   "metadata": {},
   "outputs": [],
   "source": [
    "train,test = mnist.load_data() #Loading handwritten digits dataset with 28x28 images (labelled data)"
   ]
  },
  {
   "cell_type": "code",
   "execution_count": 3,
   "metadata": {},
   "outputs": [],
   "source": [
    "X_train, Y_train = train #Splitting data into images and corresponding labels"
   ]
  },
  {
   "cell_type": "code",
   "execution_count": 4,
   "metadata": {},
   "outputs": [],
   "source": [
    "X_test, Y_test = test"
   ]
  },
  {
   "cell_type": "code",
   "execution_count": 5,
   "metadata": {},
   "outputs": [
    {
     "data": {
      "text/plain": [
       "(60000, 28, 28)"
      ]
     },
     "execution_count": 5,
     "metadata": {},
     "output_type": "execute_result"
    }
   ],
   "source": [
    "X_train.shape"
   ]
  },
  {
   "cell_type": "code",
   "execution_count": 6,
   "metadata": {},
   "outputs": [
    {
     "data": {
      "text/plain": [
       "(10000, 28, 28)"
      ]
     },
     "execution_count": 6,
     "metadata": {},
     "output_type": "execute_result"
    }
   ],
   "source": [
    "X_test.shape"
   ]
  },
  {
   "cell_type": "code",
   "execution_count": 7,
   "metadata": {},
   "outputs": [
    {
     "data": {
      "text/plain": [
       "(60000,)"
      ]
     },
     "execution_count": 7,
     "metadata": {},
     "output_type": "execute_result"
    }
   ],
   "source": [
    "Y_train.shape"
   ]
  },
  {
   "cell_type": "code",
   "execution_count": 8,
   "metadata": {},
   "outputs": [
    {
     "data": {
      "text/plain": [
       "(10000,)"
      ]
     },
     "execution_count": 8,
     "metadata": {},
     "output_type": "execute_result"
    }
   ],
   "source": [
    "Y_test.shape"
   ]
  },
  {
   "cell_type": "code",
   "execution_count": 9,
   "metadata": {},
   "outputs": [
    {
     "data": {
      "image/png": "[encoded data removed]",
      "text/plain": [
       "<Figure size 432x288 with 2 Axes>"
      ]
     },
     "metadata": {
      "needs_background": "light"
     },
     "output_type": "display_data"
    }
   ],
   "source": [
    "import matplotlib.pyplot as plt #Displaying the image using plotting library\n",
    "plt.imshow(X_test[0],cmap='gray')\n",
    "plt.colorbar()\n",
    "plt.show()"
   ]
  },
  {
   "cell_type": "code",
   "execution_count": 10,
   "metadata": {},
   "outputs": [],
   "source": [
    "#Normalizing data to bring in range 0 to 1 from 0 to 255\n",
    "X_train = X_train/255\n",
    "X_test = X_test/255"
   ]
  },
  {
   "cell_type": "code",
   "execution_count": 11,
   "metadata": {},
   "outputs": [
    {
     "data": {
      "text/plain": [
       "(60000, 28, 28)"
      ]
     },
     "execution_count": 11,
     "metadata": {},
     "output_type": "execute_result"
    }
   ],
   "source": [
    "X_train.shape"
   ]
  },
  {
   "cell_type": "code",
   "execution_count": 12,
   "metadata": {},
   "outputs": [],
   "source": [
    "X_train = X_train.reshape(-1,X_train.shape[1]*X_train.shape[2])\n",
    "X_test = X_test.reshape(-1,X_test.shape[1]*X_test.shape[2])"
   ]
  },
  {
   "cell_type": "code",
   "execution_count": 13,
   "metadata": {},
   "outputs": [
    {
     "data": {
      "text/plain": [
       "(60000, 784)"
      ]
     },
     "execution_count": 13,
     "metadata": {},
     "output_type": "execute_result"
    }
   ],
   "source": [
    "X_train.shape #Flattened the images from 28x28 to 784 to feed to neural network neurons"
   ]
  },
  {
   "cell_type": "code",
   "execution_count": 14,
   "metadata": {},
   "outputs": [
    {
     "data": {
      "text/plain": [
       "array([5, 0, 4, ..., 5, 6, 8], dtype=uint8)"
      ]
     },
     "execution_count": 14,
     "metadata": {},
     "output_type": "execute_result"
    }
   ],
   "source": [
    "Y_train"
   ]
  },
  {
   "cell_type": "code",
   "execution_count": 15,
   "metadata": {},
   "outputs": [],
   "source": [
    "Y_train = np_utils.to_categorical(Y_train)\n",
    "Y_test = np_utils.to_categorical(Y_test)"
   ]
  },
  {
   "cell_type": "code",
   "execution_count": 16,
   "metadata": {},
   "outputs": [
    {
     "data": {
      "text/plain": [
       "array([[0., 0., 0., ..., 0., 0., 0.],\n",
       "       [1., 0., 0., ..., 0., 0., 0.],\n",
       "       [0., 0., 0., ..., 0., 0., 0.],\n",
       "       ...,\n",
       "       [0., 0., 0., ..., 0., 0., 0.],\n",
       "       [0., 0., 0., ..., 0., 0., 0.],\n",
       "       [0., 0., 0., ..., 0., 1., 0.]], dtype=float32)"
      ]
     },
     "execution_count": 16,
     "metadata": {},
     "output_type": "execute_result"
    }
   ],
   "source": [
    "Y_train"
   ]
  },
  {
   "cell_type": "code",
   "execution_count": 17,
   "metadata": {},
   "outputs": [],
   "source": [
    "model = Sequential() #Making a feed-forward artificial neural network with sequential layers"
   ]
  },
  {
   "cell_type": "code",
   "execution_count": 18,
   "metadata": {},
   "outputs": [],
   "source": [
    "#Adding layers and activations\n",
    "model.add(Dense(128,activation='relu',input_shape=(784,)))\n",
    "model.add(Dense(64,activation='relu'))\n",
    "model.add(Dense(16,activation='relu'))\n",
    "model.add(Dense(10,activation='softmax'))"
   ]
  },
  {
   "cell_type": "code",
   "execution_count": 19,
   "metadata": {},
   "outputs": [],
   "source": [
    "model.compile(loss='categorical_crossentropy',optimizer='adam',metrics=['accuracy'])\n",
    "#Categorical crossentropy is used to define error for multiple classes (0 to 9 in this case)\n",
    "#Adam optimizer uses a combination of RMSProp and Gradient Descent Optimization technique\n",
    "#We are judging the model on its accuracy"
   ]
  },
  {
   "cell_type": "code",
   "execution_count": 20,
   "metadata": {
    "scrolled": false
   },
   "outputs": [
    {
     "name": "stdout",
     "output_type": "stream",
     "text": [
      "Epoch 1/40\n",
      "48/48 [==============================] - 1s 22ms/step - loss: 1.1930 - accuracy: 0.6294 - val_loss: 0.4704 - val_accuracy: 0.8708\n",
      "Epoch 2/40\n",
      "48/48 [==============================] - 0s 9ms/step - loss: 0.3669 - accuracy: 0.8996 - val_loss: 0.2676 - val_accuracy: 0.9277\n",
      "Epoch 3/40\n",
      "48/48 [==============================] - 0s 8ms/step - loss: 0.2478 - accuracy: 0.9310 - val_loss: 0.2050 - val_accuracy: 0.9437\n",
      "Epoch 4/40\n",
      "48/48 [==============================] - 0s 8ms/step - loss: 0.1941 - accuracy: 0.9452 - val_loss: 0.1765 - val_accuracy: 0.9517\n",
      "Epoch 5/40\n",
      "48/48 [==============================] - 0s 8ms/step - loss: 0.1596 - accuracy: 0.9545 - val_loss: 0.1513 - val_accuracy: 0.9568\n",
      "Epoch 6/40\n",
      "48/48 [==============================] - 0s 8ms/step - loss: 0.1361 - accuracy: 0.9606 - val_loss: 0.1429 - val_accuracy: 0.9582\n",
      "Epoch 7/40\n",
      "48/48 [==============================] - 0s 8ms/step - loss: 0.1184 - accuracy: 0.9662 - val_loss: 0.1368 - val_accuracy: 0.9605\n",
      "Epoch 8/40\n",
      "48/48 [==============================] - 0s 8ms/step - loss: 0.1053 - accuracy: 0.9696 - val_loss: 0.1284 - val_accuracy: 0.9628\n",
      "Epoch 9/40\n",
      "48/48 [==============================] - 0s 8ms/step - loss: 0.0937 - accuracy: 0.9732 - val_loss: 0.1170 - val_accuracy: 0.9665\n",
      "Epoch 10/40\n",
      "48/48 [==============================] - 0s 8ms/step - loss: 0.0846 - accuracy: 0.9757 - val_loss: 0.1188 - val_accuracy: 0.9647\n",
      "Epoch 11/40\n",
      "48/48 [==============================] - 0s 8ms/step - loss: 0.0753 - accuracy: 0.9782 - val_loss: 0.1136 - val_accuracy: 0.9676\n",
      "Epoch 12/40\n",
      "48/48 [==============================] - 0s 8ms/step - loss: 0.0671 - accuracy: 0.9811 - val_loss: 0.1107 - val_accuracy: 0.9666\n",
      "Epoch 13/40\n",
      "48/48 [==============================] - 0s 8ms/step - loss: 0.0610 - accuracy: 0.9829 - val_loss: 0.1074 - val_accuracy: 0.9681\n",
      "Epoch 14/40\n",
      "48/48 [==============================] - 0s 8ms/step - loss: 0.0541 - accuracy: 0.9853 - val_loss: 0.1058 - val_accuracy: 0.9693\n",
      "Epoch 15/40\n",
      "48/48 [==============================] - 0s 9ms/step - loss: 0.0485 - accuracy: 0.9869 - val_loss: 0.1046 - val_accuracy: 0.9679\n",
      "Epoch 16/40\n",
      "48/48 [==============================] - 0s 8ms/step - loss: 0.0444 - accuracy: 0.9881 - val_loss: 0.1015 - val_accuracy: 0.9703\n",
      "Epoch 17/40\n",
      "48/48 [==============================] - 0s 9ms/step - loss: 0.0391 - accuracy: 0.9899 - val_loss: 0.1039 - val_accuracy: 0.9708\n",
      "Epoch 18/40\n",
      "48/48 [==============================] - 1s 11ms/step - loss: 0.0366 - accuracy: 0.9904 - val_loss: 0.1046 - val_accuracy: 0.9698\n",
      "Epoch 19/40\n",
      "48/48 [==============================] - 0s 10ms/step - loss: 0.0335 - accuracy: 0.9914 - val_loss: 0.1024 - val_accuracy: 0.9712\n",
      "Epoch 20/40\n",
      "48/48 [==============================] - 0s 8ms/step - loss: 0.0303 - accuracy: 0.9925 - val_loss: 0.1062 - val_accuracy: 0.9704\n",
      "Epoch 21/40\n",
      "48/48 [==============================] - 0s 10ms/step - loss: 0.0282 - accuracy: 0.9931 - val_loss: 0.1055 - val_accuracy: 0.9710\n",
      "Epoch 22/40\n",
      "48/48 [==============================] - 0s 9ms/step - loss: 0.0242 - accuracy: 0.9943 - val_loss: 0.1038 - val_accuracy: 0.9718\n",
      "Epoch 23/40\n",
      "48/48 [==============================] - 0s 9ms/step - loss: 0.0224 - accuracy: 0.9949 - val_loss: 0.1061 - val_accuracy: 0.9711\n",
      "Epoch 24/40\n",
      "48/48 [==============================] - 0s 9ms/step - loss: 0.0201 - accuracy: 0.9956 - val_loss: 0.1050 - val_accuracy: 0.9714\n",
      "Epoch 25/40\n",
      "48/48 [==============================] - 0s 9ms/step - loss: 0.0177 - accuracy: 0.9964 - val_loss: 0.1046 - val_accuracy: 0.9724\n",
      "Epoch 26/40\n",
      "48/48 [==============================] - 0s 9ms/step - loss: 0.0158 - accuracy: 0.9971 - val_loss: 0.1071 - val_accuracy: 0.9721\n",
      "Epoch 27/40\n",
      "48/48 [==============================] - 0s 8ms/step - loss: 0.0150 - accuracy: 0.9971 - val_loss: 0.1084 - val_accuracy: 0.9718\n",
      "Epoch 28/40\n",
      "48/48 [==============================] - 0s 8ms/step - loss: 0.0138 - accuracy: 0.9977 - val_loss: 0.1095 - val_accuracy: 0.9716\n",
      "Epoch 29/40\n",
      "48/48 [==============================] - 0s 8ms/step - loss: 0.0114 - accuracy: 0.9983 - val_loss: 0.1110 - val_accuracy: 0.9707\n",
      "Epoch 30/40\n",
      "48/48 [==============================] - 0s 8ms/step - loss: 0.0105 - accuracy: 0.9985 - val_loss: 0.1107 - val_accuracy: 0.9718\n",
      "Epoch 31/40\n",
      "48/48 [==============================] - 0s 8ms/step - loss: 0.0098 - accuracy: 0.9985 - val_loss: 0.1129 - val_accuracy: 0.9715\n",
      "Epoch 32/40\n",
      "48/48 [==============================] - 0s 8ms/step - loss: 0.0087 - accuracy: 0.9988 - val_loss: 0.1151 - val_accuracy: 0.9722\n",
      "Epoch 33/40\n",
      "48/48 [==============================] - 0s 8ms/step - loss: 0.0077 - accuracy: 0.9990 - val_loss: 0.1129 - val_accuracy: 0.9730\n",
      "Epoch 34/40\n",
      "48/48 [==============================] - 0s 8ms/step - loss: 0.0068 - accuracy: 0.9993 - val_loss: 0.1203 - val_accuracy: 0.9715\n",
      "Epoch 35/40\n",
      "48/48 [==============================] - 0s 8ms/step - loss: 0.0063 - accuracy: 0.9996 - val_loss: 0.1179 - val_accuracy: 0.9721\n",
      "Epoch 36/40\n",
      "48/48 [==============================] - 0s 8ms/step - loss: 0.0057 - accuracy: 0.9995 - val_loss: 0.1186 - val_accuracy: 0.9720\n",
      "Epoch 37/40\n",
      "48/48 [==============================] - 0s 9ms/step - loss: 0.0053 - accuracy: 0.9996 - val_loss: 0.1206 - val_accuracy: 0.9716\n",
      "Epoch 38/40\n",
      "48/48 [==============================] - 0s 9ms/step - loss: 0.0044 - accuracy: 0.9998 - val_loss: 0.1218 - val_accuracy: 0.9712\n",
      "Epoch 39/40\n",
      "48/48 [==============================] - 1s 13ms/step - loss: 0.0040 - accuracy: 0.9998 - val_loss: 0.1212 - val_accuracy: 0.9725\n",
      "Epoch 40/40\n",
      "48/48 [==============================] - 1s 14ms/step - loss: 0.0037 - accuracy: 0.9999 - val_loss: 0.1227 - val_accuracy: 0.9722\n"
     ]
    },
    {
     "data": {
      "text/plain": [
       "<tensorflow.python.keras.callbacks.History at 0x23b8d086cd0>"
      ]
     },
     "execution_count": 20,
     "metadata": {},
     "output_type": "execute_result"
    }
   ],
   "source": [
    "#Training the model using the training data\n",
    "model.fit(X_train,Y_train,batch_size=1000,epochs=40,validation_split=0.2)\n",
    "#All the above parameters in fit function are hyperparameters, change them and experiment with them to see what different results can be found"
   ]
  },
  {
   "cell_type": "code",
   "execution_count": 21,
   "metadata": {},
   "outputs": [],
   "source": [
    "#calculating test accuracy\n",
    "import numpy as np\n",
    "total = len(X_test)\n",
    "Y_pred = model.predict(X_test)\n",
    "corr=0\n",
    "for i in range(len(X_test)):\n",
    "    if np.argmax(Y_pred[i]) == np.argmax(Y_test[i]):\n",
    "        corr+=1"
   ]
  },
  {
   "cell_type": "code",
   "execution_count": 22,
   "metadata": {},
   "outputs": [],
   "source": [
    "test_accuracy = corr/total"
   ]
  },
  {
   "cell_type": "code",
   "execution_count": 23,
   "metadata": {},
   "outputs": [
    {
     "data": {
      "text/plain": [
       "0.9734"
      ]
     },
     "execution_count": 23,
     "metadata": {},
     "output_type": "execute_result"
    }
   ],
   "source": [
    "test_accuracy"
   ]
  },
  {
   "cell_type": "code",
   "execution_count": 24,
   "metadata": {},
   "outputs": [
    {
     "data": {
      "text/plain": [
       "7"
      ]
     },
     "execution_count": 24,
     "metadata": {},
     "output_type": "execute_result"
    }
   ],
   "source": [
    "#working of argmax\n",
    "np.argmax(Y_pred[0])"
   ]
  },
  {
   "cell_type": "code",
   "execution_count": 25,
   "metadata": {},
   "outputs": [
    {
     "data": {
      "text/plain": [
       "7"
      ]
     },
     "execution_count": 25,
     "metadata": {},
     "output_type": "execute_result"
    }
   ],
   "source": [
    "np.argmax(Y_test[0])"
   ]
  },
  {
   "cell_type": "code",
   "execution_count": null,
   "metadata": {},
   "outputs": [],
   "source": []
  },
  {
   "cell_type": "code",
   "execution_count": null,
   "metadata": {},
   "outputs": [],
   "source": []
  }
 ],
 "metadata": {
  "kernelspec": {
   "display_name": "Python 3",
   "language": "python",
   "name": "python3"
  },
  "language_info": {
   "codemirror_mode": {
    "name": "ipython",
    "version": 3
   },
   "file_extension": ".py",
   "mimetype": "text/x-python",
   "name": "python",
   "nbconvert_exporter": "python",
   "pygments_lexer": "ipython3",
   "version": "3.8.5"
  }
 },
 "nbformat": 4,
 "nbformat_minor": 2
}
